{
 "cells": [
  {
   "cell_type": "markdown",
   "id": "e0917ccb",
   "metadata": {},
   "source": [
    "# 1.\tWrite a Python Program to Find the Factorial of a Number?"
   ]
  },
  {
   "cell_type": "code",
   "execution_count": 2,
   "id": "f21f1b52",
   "metadata": {},
   "outputs": [
    {
     "name": "stdout",
     "output_type": "stream",
     "text": [
      "Enter the number: 5\n",
      "Factorial of 5 is 120\n"
     ]
    }
   ],
   "source": [
    "num = int(input(\"Enter the number: \"))\n",
    "a = num\n",
    "fact= 1\n",
    "\n",
    "while a>=1 :\n",
    "    fact = fact*a \n",
    "    a = a-1\n",
    "print(f\"Factorial of {num} is {fact}\")\n"
   ]
  },
  {
   "cell_type": "markdown",
   "id": "0da8d9bb",
   "metadata": {},
   "source": [
    "# 2.\tWrite a Python Program to Display the multiplication Table?"
   ]
  },
  {
   "cell_type": "code",
   "execution_count": 4,
   "id": "720d19a5",
   "metadata": {},
   "outputs": [
    {
     "name": "stdout",
     "output_type": "stream",
     "text": [
      "Enter the number : 5\n",
      "5 * 1 = 5 \n",
      "5 * 2 = 10 \n",
      "5 * 3 = 15 \n",
      "5 * 4 = 20 \n",
      "5 * 5 = 25 \n",
      "5 * 6 = 30 \n",
      "5 * 7 = 35 \n",
      "5 * 8 = 40 \n",
      "5 * 9 = 45 \n",
      "5 * 10 = 50 \n"
     ]
    }
   ],
   "source": [
    "num = int(input(\"Enter the number : \"))\n",
    "\n",
    "i = 1\n",
    "while i <= 10:\n",
    "    mul = num * i\n",
    "    print(f\"{num} * {i} = {mul} \")\n",
    "    i = i+1\n"
   ]
  },
  {
   "cell_type": "markdown",
   "id": "ae8bce93",
   "metadata": {},
   "source": [
    "\n",
    "# 3.\tWrite a Python Program to Print the Fibonacci sequence?"
   ]
  },
  {
   "cell_type": "code",
   "execution_count": 5,
   "id": "95bf44e5",
   "metadata": {},
   "outputs": [
    {
     "name": "stdout",
     "output_type": "stream",
     "text": [
      "Enter the number : 5\n",
      "0 1 1 2 3 "
     ]
    }
   ],
   "source": [
    "len = int(input(\"Enter the number : \"))\n",
    "a = [0 for j in range(len)]\n",
    "for i in range(len):\n",
    "    if i < 2:\n",
    "        a[i] = i\n",
    "    else:\n",
    "        a[i] = a[i-2] + a[i-1]\n",
    "\n",
    "for i in range(len):\n",
    "    print(a[i],end = \" \")"
   ]
  },
  {
   "cell_type": "markdown",
   "id": "a74a66f5",
   "metadata": {},
   "source": [
    "# 4.\tWrite a Python Program to Check Armstrong Number?"
   ]
  },
  {
   "cell_type": "code",
   "execution_count": 14,
   "id": "fedfef2c",
   "metadata": {},
   "outputs": [
    {
     "name": "stdout",
     "output_type": "stream",
     "text": [
      "Enter a number to check:563\n",
      "3\n",
      "27\n",
      "56\n",
      "6\n",
      "243\n",
      "5\n",
      "5\n",
      "368\n",
      "0\n",
      "563 is not armstrong number\n"
     ]
    }
   ],
   "source": [
    "#An Armstrong number is a positive m-digit number that is equal to the sum of the mth powers of their digits.\n",
    "\n",
    "num = int(input(\"Enter a number to check:\"))\n",
    "sum=0\n",
    "temp=num\n",
    "while temp>0:\n",
    "    digit=temp%10\n",
    "    print(digit)\n",
    "    \n",
    "    sum=sum+digit**3\n",
    "    print(sum)\n",
    "\n",
    "    temp=temp//10\n",
    "    print(temp)\n",
    "\n",
    "if sum==num:\n",
    "    print(num,\"is armstrong number\")\n",
    "else:\n",
    "    print(num,\"is not armstrong number\")"
   ]
  },
  {
   "cell_type": "markdown",
   "id": "69934699",
   "metadata": {},
   "source": [
    "# 5.\tWrite a Python Program to Find Armstrong Number in an Interval?"
   ]
  },
  {
   "cell_type": "code",
   "execution_count": 18,
   "id": "6e41adb1",
   "metadata": {},
   "outputs": [
    {
     "name": "stdout",
     "output_type": "stream",
     "text": [
      "Armstrong numbers between 10 and 500 are - \n",
      "153\n",
      "370\n",
      "371\n",
      "407\n"
     ]
    }
   ],
   "source": [
    "\n",
    "print(\"Armstrong numbers between 10 and 500 are - \")\n",
    "for num in range(10,500):\n",
    "    temp = num\n",
    "    temp1 = num\n",
    "    i = 1\n",
    "    len1 = 0\n",
    "    while(num>0):\n",
    "        a = (num) % (10 **i)\n",
    "        i = i+1\n",
    "        len1 = len1+1\n",
    "        num = num -a\n",
    "\n",
    "    sum = 0\n",
    "\n",
    "    while(temp>0):\n",
    "        t = temp %10\n",
    "        sum = sum + t**len1\n",
    "        temp = temp // 10\n",
    "\n",
    "    if temp1 == sum:\n",
    "        print(temp1 )\n",
    "\n",
    "    "
   ]
  },
  {
   "cell_type": "markdown",
   "id": "0f589188",
   "metadata": {},
   "source": [
    "# 6.\tWrite a Python Program to Find the Sum of Natural Numbers?"
   ]
  },
  {
   "cell_type": "code",
   "execution_count": 7,
   "id": "01037844",
   "metadata": {},
   "outputs": [
    {
     "name": "stdout",
     "output_type": "stream",
     "text": [
      "Enter the number : 6\n",
      "sum of natural numbers :  21\n"
     ]
    }
   ],
   "source": [
    "num = int(input(\"Enter the number : \"))\n",
    "\n",
    "sum = 0\n",
    "\n",
    "while(num > 0):\n",
    "    sum =sum+num\n",
    "    num = num - 1\n",
    "\n",
    "print(\"sum of natural numbers : \",sum)\n"
   ]
  },
  {
   "cell_type": "code",
   "execution_count": null,
   "id": "6ccd872e",
   "metadata": {},
   "outputs": [],
   "source": []
  }
 ],
 "metadata": {
  "kernelspec": {
   "display_name": "Python 3 (ipykernel)",
   "language": "python",
   "name": "python3"
  },
  "language_info": {
   "codemirror_mode": {
    "name": "ipython",
    "version": 3
   },
   "file_extension": ".py",
   "mimetype": "text/x-python",
   "name": "python",
   "nbconvert_exporter": "python",
   "pygments_lexer": "ipython3",
   "version": "3.9.12"
  }
 },
 "nbformat": 4,
 "nbformat_minor": 5
}
