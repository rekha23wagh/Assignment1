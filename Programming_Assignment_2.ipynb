{
 "cells": [
  {
   "cell_type": "markdown",
   "id": "4415a9e5",
   "metadata": {},
   "source": [
    "# Que 1. Write a Python program to convert kilometers to miles?"
   ]
  },
  {
   "cell_type": "code",
   "execution_count": null,
   "id": "0fb2945a",
   "metadata": {},
   "outputs": [],
   "source": [
    "#1 km = 0.621371 mi"
   ]
  },
  {
   "cell_type": "code",
   "execution_count": 15,
   "id": "8546b4d4",
   "metadata": {},
   "outputs": [
    {
     "name": "stdout",
     "output_type": "stream",
     "text": [
      "Enter Distnce in Kilometer : 5\n",
      "5 km is equal to 3.106855 miles\n"
     ]
    }
   ],
   "source": [
    "km = int(input(\"Enter Distnce in Kilometer : \"))\n",
    "m = 0.621371\n",
    "\n",
    "miles = km * m\n",
    "print(f\"{km} km is equal to {miles} miles\")"
   ]
  },
  {
   "cell_type": "markdown",
   "id": "8ad3927f",
   "metadata": {},
   "source": [
    "# Que 2. Write a Python program to convert Celsius to Fahrenheit?"
   ]
  },
  {
   "cell_type": "code",
   "execution_count": 33,
   "id": "f50a5524",
   "metadata": {},
   "outputs": [
    {
     "name": "stdout",
     "output_type": "stream",
     "text": [
      "enter the temparature in celsius : 522\n",
      "522.0 c is equal to 971.6 f\n"
     ]
    }
   ],
   "source": [
    "# F = C × (9/5) + 32\n",
    "c = float(input(\"Enter the temparature in celsius : \"))\n",
    "f = c*(9/5) + 32.\n",
    "print(f\"{c} c is equal to {f} f\")"
   ]
  },
  {
   "cell_type": "markdown",
   "id": "642616d8",
   "metadata": {},
   "source": [
    "# Que 3. Write a Python program to display calendar."
   ]
  },
  {
   "cell_type": "code",
   "execution_count": 42,
   "id": "d866b6df",
   "metadata": {},
   "outputs": [
    {
     "name": "stdout",
     "output_type": "stream",
     "text": [
      "Enter the Year : 2013\n",
      "    January 2013\n",
      "Mo Tu We Th Fr Sa Su\n",
      "    1  2  3  4  5  6\n",
      " 7  8  9 10 11 12 13\n",
      "14 15 16 17 18 19 20\n",
      "21 22 23 24 25 26 27\n",
      "28 29 30 31\n",
      "\n",
      "   February 2013\n",
      "Mo Tu We Th Fr Sa Su\n",
      "             1  2  3\n",
      " 4  5  6  7  8  9 10\n",
      "11 12 13 14 15 16 17\n",
      "18 19 20 21 22 23 24\n",
      "25 26 27 28\n",
      "\n",
      "     March 2013\n",
      "Mo Tu We Th Fr Sa Su\n",
      "             1  2  3\n",
      " 4  5  6  7  8  9 10\n",
      "11 12 13 14 15 16 17\n",
      "18 19 20 21 22 23 24\n",
      "25 26 27 28 29 30 31\n",
      "\n",
      "     April 2013\n",
      "Mo Tu We Th Fr Sa Su\n",
      " 1  2  3  4  5  6  7\n",
      " 8  9 10 11 12 13 14\n",
      "15 16 17 18 19 20 21\n",
      "22 23 24 25 26 27 28\n",
      "29 30\n",
      "\n",
      "      May 2013\n",
      "Mo Tu We Th Fr Sa Su\n",
      "       1  2  3  4  5\n",
      " 6  7  8  9 10 11 12\n",
      "13 14 15 16 17 18 19\n",
      "20 21 22 23 24 25 26\n",
      "27 28 29 30 31\n",
      "\n",
      "     June 2013\n",
      "Mo Tu We Th Fr Sa Su\n",
      "                1  2\n",
      " 3  4  5  6  7  8  9\n",
      "10 11 12 13 14 15 16\n",
      "17 18 19 20 21 22 23\n",
      "24 25 26 27 28 29 30\n",
      "\n",
      "     July 2013\n",
      "Mo Tu We Th Fr Sa Su\n",
      " 1  2  3  4  5  6  7\n",
      " 8  9 10 11 12 13 14\n",
      "15 16 17 18 19 20 21\n",
      "22 23 24 25 26 27 28\n",
      "29 30 31\n",
      "\n",
      "    August 2013\n",
      "Mo Tu We Th Fr Sa Su\n",
      "          1  2  3  4\n",
      " 5  6  7  8  9 10 11\n",
      "12 13 14 15 16 17 18\n",
      "19 20 21 22 23 24 25\n",
      "26 27 28 29 30 31\n",
      "\n",
      "   September 2013\n",
      "Mo Tu We Th Fr Sa Su\n",
      "                   1\n",
      " 2  3  4  5  6  7  8\n",
      " 9 10 11 12 13 14 15\n",
      "16 17 18 19 20 21 22\n",
      "23 24 25 26 27 28 29\n",
      "30\n",
      "\n",
      "    October 2013\n",
      "Mo Tu We Th Fr Sa Su\n",
      "    1  2  3  4  5  6\n",
      " 7  8  9 10 11 12 13\n",
      "14 15 16 17 18 19 20\n",
      "21 22 23 24 25 26 27\n",
      "28 29 30 31\n",
      "\n",
      "   November 2013\n",
      "Mo Tu We Th Fr Sa Su\n",
      "             1  2  3\n",
      " 4  5  6  7  8  9 10\n",
      "11 12 13 14 15 16 17\n",
      "18 19 20 21 22 23 24\n",
      "25 26 27 28 29 30\n",
      "\n",
      "   December 2013\n",
      "Mo Tu We Th Fr Sa Su\n",
      "                   1\n",
      " 2  3  4  5  6  7  8\n",
      " 9 10 11 12 13 14 15\n",
      "16 17 18 19 20 21 22\n",
      "23 24 25 26 27 28 29\n",
      "30 31\n",
      "\n"
     ]
    }
   ],
   "source": [
    "import calendar\n",
    "year = int(input(\"Enter the Year : \"))\n",
    "for i in range(1,13):\n",
    "    print(calendar.month(year,i))   "
   ]
  },
  {
   "cell_type": "markdown",
   "id": "6b051350",
   "metadata": {},
   "source": [
    "# Que 4.Write a Python program to solve quadratic equation?"
   ]
  },
  {
   "cell_type": "code",
   "execution_count": null,
   "id": "4e1872c6",
   "metadata": {},
   "outputs": [],
   "source": [
    "\"\"\"Quadratic equation is ax2 + bx + c = 0.\n",
    " discriminant = b2 - 4ac\n",
    " x = [-b -+ √(b2 - 4ac)]/2a\n",
    " \"\"\"\n",
    "    \n",
    "import cmath\n",
    "\n",
    "p = int(input('Enter value for p: '))\n",
    "q = int(input('Enter value for q: '))\n",
    "r = int(input('Enter value for r: '))\n",
    "\n",
    "def quadra_roots(p,q,r):\n",
    "    discr = float(b*b-4*a*c)\n",
    "    \n",
    "    if discr == 0:\n",
    "        root1 = -b/2*a\n",
    "        root2 = -b/2*a\n",
    "        print(\"Roots are Real ans equal \",root1,root2)\n",
    "    elif discr > 0:\n",
    "        root1 = (-b-math.sqrt(discr))/(2 * a)\n",
    "        root2 = (-b+math.sqrt(discr))/(2 * a)\n",
    "        print(\"Roots are Real and different\",root1,root2)\n",
    "    else:\n",
    "        r1 = (-b-cmath.sqrt(discr))/(2 * a)\n",
    "        r2 = (-b+cmath.sqrt(discr))/(2 * a)\n",
    "        print(\"Roots are Imaginary\",root1,root2)\n",
    "        \n",
    "quadra_roots(p,q,r) "
   ]
  },
  {
   "cell_type": "markdown",
   "id": "8e2d97c2",
   "metadata": {},
   "source": [
    "# Que 5. Write a Python program to swap two variables without temp variable?"
   ]
  },
  {
   "cell_type": "code",
   "execution_count": 48,
   "id": "e4e3f71d",
   "metadata": {},
   "outputs": [
    {
     "name": "stdout",
     "output_type": "stream",
     "text": [
      "Enter the first no : 25\n",
      "Enter the second no : 89\n",
      "before swaping the numbers : 25   89\n",
      "after swaping the numbers :  89   25\n"
     ]
    }
   ],
   "source": [
    "a = int(input(\"Enter the first no : \"))\n",
    "b = int(input(\"Enter the second no : \"))\n",
    "\n",
    "print(\"before swaping the numbers :\" , a , \" \", b)\n",
    "a, b = b, a\n",
    "print(\"after swaping the numbers : \" , a , \" \", b)"
   ]
  },
  {
   "cell_type": "code",
   "execution_count": null,
   "id": "302e7716",
   "metadata": {},
   "outputs": [],
   "source": []
  },
  {
   "cell_type": "code",
   "execution_count": null,
   "id": "cce6f7ed",
   "metadata": {},
   "outputs": [],
   "source": []
  }
 ],
 "metadata": {
  "kernelspec": {
   "display_name": "Python 3 (ipykernel)",
   "language": "python",
   "name": "python3"
  },
  "language_info": {
   "codemirror_mode": {
    "name": "ipython",
    "version": 3
   },
   "file_extension": ".py",
   "mimetype": "text/x-python",
   "name": "python",
   "nbconvert_exporter": "python",
   "pygments_lexer": "ipython3",
   "version": "3.9.12"
  }
 },
 "nbformat": 4,
 "nbformat_minor": 5
}
