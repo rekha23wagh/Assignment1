{
 "cells": [
  {
   "cell_type": "markdown",
   "id": "9696b882",
   "metadata": {},
   "source": [
    "# 1.\tWrite a Python Program to Display Fibonacci Sequence Using Recursion?"
   ]
  },
  {
   "cell_type": "code",
   "execution_count": 9,
   "id": "67c2ea2b",
   "metadata": {},
   "outputs": [
    {
     "name": "stdout",
     "output_type": "stream",
     "text": [
      "Enter the no : 9\n",
      "0\n",
      "1\n",
      "1\n",
      "2\n",
      "3\n",
      "5\n",
      "8\n",
      "13\n",
      "21\n"
     ]
    }
   ],
   "source": [
    "n= int(input(\"Enter the no : \"))\n",
    "\n",
    "def fib(f):\n",
    "    if f <= 0:\n",
    "        return 0\n",
    "    elif f == 1:\n",
    "        return 1\n",
    "    else:\n",
    "        return fib(f-1)+fib(f-2)\n",
    "    \n",
    "for i in range(n):\n",
    "    print(fib(i))"
   ]
  },
  {
   "cell_type": "markdown",
   "id": "68f5e3b8",
   "metadata": {},
   "source": [
    "# Write a python programm to find factorial of number using recursion?"
   ]
  },
  {
   "cell_type": "code",
   "execution_count": 1,
   "id": "6eb15fe9",
   "metadata": {},
   "outputs": [
    {
     "name": "stdout",
     "output_type": "stream",
     "text": [
      "enter the th number: 5\n",
      "120\n"
     ]
    }
   ],
   "source": [
    "p =int(input('enter the th number: '))\n",
    "def fact(num):\n",
    "    if num == 0:\n",
    "        return 1\n",
    "    else:\n",
    "        return num*fact(num-1)\n",
    "print(fact(p))"
   ]
  },
  {
   "cell_type": "markdown",
   "id": "3245ee29",
   "metadata": {},
   "source": [
    "# Write a python to calculateyou body mass index. "
   ]
  },
  {
   "cell_type": "code",
   "execution_count": 9,
   "id": "f7b223e5",
   "metadata": {},
   "outputs": [
    {
     "name": "stdout",
     "output_type": "stream",
     "text": [
      "Enter waight in kg :25\n",
      "Enter height in meter :5\n",
      "Body mass index is 1.0\n"
     ]
    }
   ],
   "source": [
    "#bmi = weight/(height)**2\n",
    "    \n",
    "w= float(input(\"Enter waight in kg :\"))\n",
    "h = float(input(\"Enter height in meter :\"))\n",
    "bmi = w/(h)**2\n",
    "print(f\"Body mass index is {bmi}\")"
   ]
  },
  {
   "cell_type": "markdown",
   "id": "275890a2",
   "metadata": {},
   "source": [
    "# Write a python program to calculate a natural logarithm of any number."
   ]
  },
  {
   "cell_type": "code",
   "execution_count": 12,
   "id": "ae210e54",
   "metadata": {},
   "outputs": [
    {
     "name": "stdout",
     "output_type": "stream",
     "text": [
      "Enter the number: 20\n",
      "2.995732273553991\n"
     ]
    }
   ],
   "source": [
    "\n",
    "import math\n",
    "#math.log function retyrns the natural log by default\n",
    "num = int(input(\"Enter the number: \"))\n",
    "\n",
    "print(math.log(num))\n"
   ]
  },
  {
   "cell_type": "markdown",
   "id": "60f2b49e",
   "metadata": {},
   "source": [
    "# Write a Python Program for cube sum of first n natural numbers"
   ]
  },
  {
   "cell_type": "code",
   "execution_count": 40,
   "id": "9dc9838d",
   "metadata": {},
   "outputs": [
    {
     "name": "stdout",
     "output_type": "stream",
     "text": [
      "Enter natural no: 4\n",
      "1\n",
      "8\n",
      "27\n",
      "64\n",
      "Cube sum of natural no is , 100\n"
     ]
    }
   ],
   "source": [
    "num = int(input(\"Enter natural no: \"))\n",
    "sum= 0 \n",
    "for i in range(1,num+1):\n",
    "    while sum < i**3:\n",
    "        sum= sum + i**3\n",
    "\n",
    "    print(i** 3)\n",
    "\n",
    "print(f\"Cube sum of natural no is , {sum}\")\n",
    "    "
   ]
  },
  {
   "cell_type": "code",
   "execution_count": null,
   "id": "ffa59642",
   "metadata": {},
   "outputs": [],
   "source": []
  }
 ],
 "metadata": {
  "kernelspec": {
   "display_name": "Python 3 (ipykernel)",
   "language": "python",
   "name": "python3"
  },
  "language_info": {
   "codemirror_mode": {
    "name": "ipython",
    "version": 3
   },
   "file_extension": ".py",
   "mimetype": "text/x-python",
   "name": "python",
   "nbconvert_exporter": "python",
   "pygments_lexer": "ipython3",
   "version": "3.9.12"
  }
 },
 "nbformat": 4,
 "nbformat_minor": 5
}
