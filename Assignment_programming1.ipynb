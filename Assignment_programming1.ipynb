{
 "cells": [
  {
   "cell_type": "markdown",
   "id": "bb746116",
   "metadata": {},
   "source": [
    "# Assignment - 1"
   ]
  },
  {
   "cell_type": "markdown",
   "id": "db78d700",
   "metadata": {},
   "source": [
    "Que 1. Write a python program to print \"Hello Python\""
   ]
  },
  {
   "cell_type": "code",
   "execution_count": 2,
   "id": "43b4b2ec",
   "metadata": {},
   "outputs": [
    {
     "name": "stdout",
     "output_type": "stream",
     "text": [
      "Hello Python\n"
     ]
    }
   ],
   "source": [
    "p = \"Hello Python\"\n",
    "print(p)"
   ]
  },
  {
   "cell_type": "markdown",
   "id": "9ee52ee6",
   "metadata": {},
   "source": [
    "Que 2.Write a Python program to do arithmetical operations addition and division.?"
   ]
  },
  {
   "cell_type": "code",
   "execution_count": 9,
   "id": "e722cf10",
   "metadata": {},
   "outputs": [
    {
     "name": "stdout",
     "output_type": "stream",
     "text": [
      "Enter a first no45\n",
      "Enter a second no 9\n",
      "54\n",
      "5.0\n"
     ]
    }
   ],
   "source": [
    "a= int(input(\"Enter a first no\"))\n",
    "b= int(input(\"Enter a second no \"))\n",
    "\n",
    "c = a + b\n",
    "print(c)\n",
    "\n",
    "d = a/b\n",
    "print(d)\n",
    "\n"
   ]
  },
  {
   "cell_type": "markdown",
   "id": "63898011",
   "metadata": {},
   "source": [
    "Que 3. Write a Python program to find the area of a triangle?"
   ]
  },
  {
   "cell_type": "code",
   "execution_count": 18,
   "id": "8dbd5b93",
   "metadata": {},
   "outputs": [
    {
     "name": "stdout",
     "output_type": "stream",
     "text": [
      "Enter the base of tringle : 5\n",
      "Enter the height of tringle : 8\n",
      "Area of Tringle is :  20.0\n"
     ]
    }
   ],
   "source": [
    "base = int(input(\"Enter the base of tringle : \"))\n",
    "height = int(input(\"Enter the height of tringle : \"))\n",
    "area_tringle=0\n",
    "\n",
    "area_tringle = (base*height)/2\n",
    "\n",
    "print(\"Area of Tringle is : \", area_tringle)"
   ]
  },
  {
   "cell_type": "markdown",
   "id": "2a8e3b89",
   "metadata": {},
   "source": [
    "Que 4. Write a Python program to swap two variables?"
   ]
  },
  {
   "cell_type": "code",
   "execution_count": 4,
   "id": "57e4f34f",
   "metadata": {},
   "outputs": [
    {
     "name": "stdout",
     "output_type": "stream",
     "text": [
      "Please enter the first variable : 2\n",
      "Please enter the second variable : 5\n",
      "The Value after swapping of Var1:  5\n",
      "The Value after swapping of Var2:  2\n"
     ]
    }
   ],
   "source": [
    "Var1 = int( input(\"Please enter the first variable : \"))  \n",
    "Var2 = int( input(\"Please enter the second variable : \"))  \n",
    "  \n",
    "Var1, Var2 = Var2, Var1\n",
    "\n",
    "print (\"The Value after swapping of Var1: \", Var1)  \n",
    "print (\"The Value after swapping of Var2: \", Var2)  "
   ]
  },
  {
   "cell_type": "markdown",
   "id": "ac1d7b6d",
   "metadata": {},
   "source": [
    "Que. 5 Write a Python program to generate a random number?"
   ]
  },
  {
   "cell_type": "code",
   "execution_count": 26,
   "id": "463ecb26",
   "metadata": {},
   "outputs": [
    {
     "name": "stdout",
     "output_type": "stream",
     "text": [
      "[6, 8]\n"
     ]
    }
   ],
   "source": [
    "import random\n",
    "\n",
    "l = [6,9,8,54,6,58,9,5,4,1]\n",
    "\n",
    "r = random.sample(l,2)            \n",
    "print(r)\n"
   ]
  },
  {
   "cell_type": "code",
   "execution_count": null,
   "id": "af89cb84",
   "metadata": {},
   "outputs": [],
   "source": []
  }
 ],
 "metadata": {
  "kernelspec": {
   "display_name": "Python 3 (ipykernel)",
   "language": "python",
   "name": "python3"
  },
  "language_info": {
   "codemirror_mode": {
    "name": "ipython",
    "version": 3
   },
   "file_extension": ".py",
   "mimetype": "text/x-python",
   "name": "python",
   "nbconvert_exporter": "python",
   "pygments_lexer": "ipython3",
   "version": "3.9.12"
  }
 },
 "nbformat": 4,
 "nbformat_minor": 5
}
