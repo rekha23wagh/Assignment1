{
 "cells": [
  {
   "cell_type": "markdown",
   "id": "12169b5d",
   "metadata": {},
   "source": [
    "# 1.\tWrite a Python Program to find sum of array?"
   ]
  },
  {
   "cell_type": "code",
   "execution_count": 6,
   "id": "34b3b80e",
   "metadata": {},
   "outputs": [
    {
     "name": "stdout",
     "output_type": "stream",
     "text": [
      "sum of the array is 17\n"
     ]
    }
   ],
   "source": [
    "array=[1,2,5,6,3]\n",
    "sum= 0\n",
    "\n",
    "for i in array:\n",
    "    sum = sum + i\n",
    "print(f\"sum of the array is {sum}\")\n",
    "\n",
    "    "
   ]
  },
  {
   "cell_type": "markdown",
   "id": "d081df4e",
   "metadata": {},
   "source": [
    "# 2.\tWrite a Python Program to find largest element in an array?"
   ]
  },
  {
   "cell_type": "code",
   "execution_count": 7,
   "id": "f0cef98b",
   "metadata": {},
   "outputs": [
    {
     "name": "stdout",
     "output_type": "stream",
     "text": [
      "largest element in array is 912\n"
     ]
    }
   ],
   "source": [
    "array = [123,526,849,246,912]\n",
    "large = 0\n",
    "\n",
    "for i in array:\n",
    "    if i > large:\n",
    "        large = i\n",
    "        \n",
    "print(f\"largest element in array is {large}\")\n",
    "    \n",
    "        "
   ]
  },
  {
   "cell_type": "markdown",
   "id": "85c7c7db",
   "metadata": {},
   "source": [
    "# 3.\tWrite a Python Program for array rotation?"
   ]
  },
  {
   "cell_type": "code",
   "execution_count": 11,
   "id": "477c93f6",
   "metadata": {},
   "outputs": [
    {
     "name": "stdout",
     "output_type": "stream",
     "text": [
      "left rotated array is [63, 21, 85, 89, 56, 22, 45]\n"
     ]
    }
   ],
   "source": [
    "array = [85,89,56,22,45,63,21,]\n",
    "\n",
    "array2 = [0 for i in range(len(array))]\n",
    "\n",
    "rot = 2\n",
    "direction = 'left'\n",
    "\n",
    "if direction == 'right':\n",
    "    array2[0:len(array2)-rot] = array[rot:len(array)]\n",
    "    array2[len(array2)-rot : len(array2)] = array[0:rot]\n",
    "    print(f\"right rotated array is {array2}\")\n",
    "elif direction == 'left':\n",
    "    array2[0:rot] = array[len(array)-rot:len(array)]\n",
    "    array2[rot:len(array2)] = array[0:len(array)-rot]\n",
    "    print(f\"left rotated array is {array2}\")"
   ]
  },
  {
   "cell_type": "markdown",
   "id": "b920e404",
   "metadata": {},
   "source": [
    "# 4.\tWrite a Python Program to Split the array and add the first part to the end?"
   ]
  },
  {
   "cell_type": "code",
   "execution_count": 18,
   "id": "ff5a405d",
   "metadata": {},
   "outputs": [
    {
     "name": "stdout",
     "output_type": "stream",
     "text": [
      "Enter the spliting into part : 5\n",
      "[1, 2, 3, 6, 7, 8, 4, 29, 21, 78, 1, 2]\n"
     ]
    }
   ],
   "source": [
    "array = [1,2,3,6,7,8,4,29,21,78]\n",
    "splt = int(input(\"Enter the spliting into part : \"))\n",
    "i = int(len(arr) / splt)\n",
    "\n",
    "array2 = [0 for i in range(len(arr)+i)]\n",
    "\n",
    "array2[0:len(arr)] = array\n",
    "\n",
    "array2[len(arr):len(arr2)] = arr[0:i]\n",
    "\n",
    "print(array2)"
   ]
  },
  {
   "cell_type": "markdown",
   "id": "cde01b6e",
   "metadata": {},
   "source": [
    "# 5.\tWrite a Python Program to check if given array is Monotonic?"
   ]
  },
  {
   "cell_type": "code",
   "execution_count": 20,
   "id": "7c5bdc25",
   "metadata": {},
   "outputs": [
    {
     "name": "stdout",
     "output_type": "stream",
     "text": [
      "array is monotonic\n"
     ]
    }
   ],
   "source": [
    "arr = [25,56,89,45,78,26,15,48]\n",
    "monti = True\n",
    "montd = True\n",
    "\n",
    "for i in range(len(arr)-1):\n",
    "    if arr[1] >= arr[0]:\n",
    "        if arr[i+1] < arr[i]:\n",
    "            monti = False\n",
    "            break\n",
    "            \n",
    "for i in range(len(arr)-1):\n",
    "    if arr[1] <= arr[0]:\n",
    "        if arr[i+1] > arr[i]:\n",
    "            montd = False\n",
    "            break\n",
    "            \n",
    "if monti or montd:\n",
    "    print(\"array is monotonic\")\n",
    "else:\n",
    "    print(\"array is not monotonic\")"
   ]
  },
  {
   "cell_type": "code",
   "execution_count": null,
   "id": "0b33c4c4",
   "metadata": {},
   "outputs": [],
   "source": []
  }
 ],
 "metadata": {
  "kernelspec": {
   "display_name": "Python 3 (ipykernel)",
   "language": "python",
   "name": "python3"
  },
  "language_info": {
   "codemirror_mode": {
    "name": "ipython",
    "version": 3
   },
   "file_extension": ".py",
   "mimetype": "text/x-python",
   "name": "python",
   "nbconvert_exporter": "python",
   "pygments_lexer": "ipython3",
   "version": "3.9.12"
  }
 },
 "nbformat": 4,
 "nbformat_minor": 5
}
