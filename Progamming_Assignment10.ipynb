{
 "cells": [
  {
   "cell_type": "markdown",
   "id": "24b52c0f",
   "metadata": {},
   "source": [
    "# 1.Write a Python program to find sum of elements in list?"
   ]
  },
  {
   "cell_type": "code",
   "execution_count": 3,
   "id": "32ecf7e9",
   "metadata": {},
   "outputs": [
    {
     "name": "stdout",
     "output_type": "stream",
     "text": [
      "The sum of elements in the list is:  36\n"
     ]
    }
   ],
   "source": [
    "lst = [3,5,8,9,5,2,4]\n",
    "\n",
    "def sum(s):\n",
    "    sum1= 0\n",
    "    for i in s:\n",
    "        sum1 += i\n",
    "    return sum1\n",
    "result = sum(lst)\n",
    "print(\"The sum of elements in the list is: \", result)"
   ]
  },
  {
   "cell_type": "markdown",
   "id": "3076650a",
   "metadata": {},
   "source": [
    "# 2.Write a Python program to  Multiply all numbers in the list?"
   ]
  },
  {
   "cell_type": "code",
   "execution_count": 6,
   "id": "e8a9bdc5",
   "metadata": {},
   "outputs": [
    {
     "name": "stdout",
     "output_type": "stream",
     "text": [
      "The mul of elements in the list is:  43200\n"
     ]
    }
   ],
   "source": [
    "lst = [3,5,8,9,5,2,4]\n",
    "\n",
    "def mul(s):\n",
    "    mul1= 1\n",
    "    for i in s:\n",
    "        mul1 *= i\n",
    "    return mul1\n",
    "result = mul(lst)\n",
    "print(\"The mul of elements in the list is: \", result)"
   ]
  },
  {
   "cell_type": "markdown",
   "id": "e025cbd7",
   "metadata": {},
   "source": [
    "# 3.Write a Python program to find smallest number in a list?"
   ]
  },
  {
   "cell_type": "code",
   "execution_count": 1,
   "id": "7f88c0c3",
   "metadata": {},
   "outputs": [
    {
     "name": "stdout",
     "output_type": "stream",
     "text": [
      "The smallest number in the list is: 1\n"
     ]
    }
   ],
   "source": [
    "lst = [5, 3, 9, 1, 7, 2]\n",
    "\n",
    "smallest = min(lst)\n",
    "\n",
    "print(\"The smallest number in the list is:\", smallest)"
   ]
  },
  {
   "cell_type": "markdown",
   "id": "500403ee",
   "metadata": {},
   "source": [
    "# 4.Write a Python program to find largest number in a list?"
   ]
  },
  {
   "cell_type": "code",
   "execution_count": 2,
   "id": "336302a4",
   "metadata": {},
   "outputs": [
    {
     "name": "stdout",
     "output_type": "stream",
     "text": [
      "The largest number in the list is: 9\n"
     ]
    }
   ],
   "source": [
    "lst = [5, 3, 9, 1, 7, 2]\n",
    "\n",
    "largest = max(lst)\n",
    "\n",
    "print(\"The largest number in the list is:\", largest)"
   ]
  },
  {
   "cell_type": "markdown",
   "id": "ca80556e",
   "metadata": {},
   "source": [
    "# 5.Write a Python program to find second largest number in a list?"
   ]
  },
  {
   "cell_type": "code",
   "execution_count": 3,
   "id": "22310220",
   "metadata": {},
   "outputs": [
    {
     "name": "stdout",
     "output_type": "stream",
     "text": [
      "The second largest number in the list is: 7\n"
     ]
    }
   ],
   "source": [
    "l = [5, 3, 9, 1, 7, 2]\n",
    "\n",
    "sorted_l = sorted(l, reverse=True)   #list will sort and reverse i.e. in decending order\n",
    "\n",
    "second_largest = sorted_l[1]   #2nd largest no in list\n",
    "\n",
    "print(\"The second largest number in the list is:\", second_largest)"
   ]
  },
  {
   "cell_type": "markdown",
   "id": "dc8c5d92",
   "metadata": {},
   "source": [
    "# 6.Write a Python program to find N largest elements from a list?"
   ]
  },
  {
   "cell_type": "code",
   "execution_count": 9,
   "id": "c4fd3ba0",
   "metadata": {},
   "outputs": [
    {
     "name": "stdout",
     "output_type": "stream",
     "text": [
      "The 2 largest elements in the list are: [9, 7]\n"
     ]
    }
   ],
   "source": [
    "l = [5, 3, 9, 1, 7, 2]\n",
    "\n",
    "N = 2\n",
    "\n",
    "sorted_l = sorted(l, reverse=True)\n",
    "\n",
    "N_largest = sorted_l[:N]\n",
    "\n",
    "print(\"The\", N, \"largest elements in the list are:\", N_largest)"
   ]
  },
  {
   "cell_type": "markdown",
   "id": "c84e6067",
   "metadata": {},
   "source": [
    "# 7.Write a Python program to print even numbers in a list?"
   ]
  },
  {
   "cell_type": "code",
   "execution_count": 24,
   "id": "697965a2",
   "metadata": {},
   "outputs": [
    {
     "name": "stdout",
     "output_type": "stream",
     "text": [
      "8\n",
      "2\n",
      "4\n"
     ]
    }
   ],
   "source": [
    "l = [3,5,8,9,5,2,4]\n",
    "\n",
    "for i in l:\n",
    "    if i % 2 == 0:\n",
    "        print(i)\n"
   ]
  },
  {
   "cell_type": "markdown",
   "id": "cf5522d5",
   "metadata": {},
   "source": [
    "# 8.Write a Python program to print odd numbers in a List?"
   ]
  },
  {
   "cell_type": "code",
   "execution_count": 25,
   "id": "f98d7cef",
   "metadata": {},
   "outputs": [
    {
     "name": "stdout",
     "output_type": "stream",
     "text": [
      "3\n",
      "5\n",
      "9\n",
      "5\n"
     ]
    }
   ],
   "source": [
    "l = [3,5,8,9,5,2,4]\n",
    "\n",
    "for i in l:\n",
    "    if i % 2 == 1:\n",
    "        print(i)"
   ]
  },
  {
   "cell_type": "code",
   "execution_count": null,
   "id": "1b0b2d4b",
   "metadata": {},
   "outputs": [],
   "source": []
  },
  {
   "cell_type": "markdown",
   "id": "31a1db76",
   "metadata": {},
   "source": [
    "# 9.Write a Python program to Remove empty List from List?"
   ]
  },
  {
   "cell_type": "code",
   "execution_count": 26,
   "id": "ab3f597d",
   "metadata": {},
   "outputs": [
    {
     "name": "stdout",
     "output_type": "stream",
     "text": [
      "[1, 3, 5, 7, 9]\n"
     ]
    }
   ],
   "source": [
    "my_list = [1, 3, [], 5, 7, [], 9]\n",
    "\n",
    "my_list = [x for x in my_list if x]\n",
    "\n",
    "print(my_list)\n"
   ]
  },
  {
   "cell_type": "markdown",
   "id": "19999034",
   "metadata": {},
   "source": [
    "# 10.Write a Python program to Cloning or Copying a list?"
   ]
  },
  {
   "cell_type": "code",
   "execution_count": 30,
   "id": "5d5216e5",
   "metadata": {},
   "outputs": [
    {
     "name": "stdout",
     "output_type": "stream",
     "text": [
      "Original list: [1, 2, 3, 4, 5]\n",
      "Copied list: [1, 2, 3, 4, 5]\n"
     ]
    }
   ],
   "source": [
    "my_list = [1, 2, 3, 4, 5]\n",
    "\n",
    "new_list1 = my_list.copy()\n",
    "\n",
    "print(\"Original list:\", my_list)\n",
    "print(\"Copied list:\", new_list1)\n"
   ]
  },
  {
   "cell_type": "markdown",
   "id": "b7b6ec31",
   "metadata": {},
   "source": [
    "# 11.Write a Python program to Count occurrences of an element in a list?"
   ]
  },
  {
   "cell_type": "code",
   "execution_count": 33,
   "id": "1286c7e8",
   "metadata": {},
   "outputs": [
    {
     "name": "stdout",
     "output_type": "stream",
     "text": [
      "enter the element: 2\n",
      "The element 2 appears 4 times in the list.\n"
     ]
    }
   ],
   "source": [
    "my_list = [1, 2, 3, 4, 5, 3, 2, 1, 3, 4, 2, 3, 2]\n",
    "\n",
    "n= int(input(\"enter the element: \"))\n",
    "element = n\n",
    "\n",
    "count = my_list.count(element)\n",
    "\n",
    "print(\"The element\", element, \"appears\", count, \"times in the list.\")"
   ]
  },
  {
   "cell_type": "code",
   "execution_count": null,
   "id": "506c55c3",
   "metadata": {},
   "outputs": [],
   "source": []
  }
 ],
 "metadata": {
  "kernelspec": {
   "display_name": "Python 3 (ipykernel)",
   "language": "python",
   "name": "python3"
  },
  "language_info": {
   "codemirror_mode": {
    "name": "ipython",
    "version": 3
   },
   "file_extension": ".py",
   "mimetype": "text/x-python",
   "name": "python",
   "nbconvert_exporter": "python",
   "pygments_lexer": "ipython3",
   "version": "3.9.12"
  }
 },
 "nbformat": 4,
 "nbformat_minor": 5
}
