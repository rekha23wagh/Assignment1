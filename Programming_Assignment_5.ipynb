{
 "cells": [
  {
   "cell_type": "markdown",
   "id": "39d6cdff",
   "metadata": {},
   "source": [
    "# 1. Write a Python Program to Find LCM?"
   ]
  },
  {
   "cell_type": "code",
   "execution_count": 2,
   "id": "f34e853b",
   "metadata": {},
   "outputs": [
    {
     "name": "stdout",
     "output_type": "stream",
     "text": [
      "enter the first no : 2\n",
      "enter the second no : 4\n",
      "4\n"
     ]
    }
   ],
   "source": [
    "#LCM is least common multiple of 2 numbers\n",
    "\n",
    "a = int(input(\"enter the first no : \"))\n",
    "b =int(input(\"enter the second no : \"))\n",
    "\n",
    "def lcm(a, b):\n",
    "    if a > b:\n",
    "        c = a\n",
    "    else:\n",
    "        c = b\n",
    "    while(True):\n",
    "        if((c % a == 0) and (c % b == 0)):\n",
    "            lcm = c\n",
    "            break\n",
    "        c += 1\n",
    "    return lcm\n",
    "print(lcm(a, b))\n",
    "\n"
   ]
  },
  {
   "cell_type": "markdown",
   "id": "79e3fb59",
   "metadata": {},
   "source": [
    "# 2.\tWrite a Python Program to Find HCF?"
   ]
  },
  {
   "cell_type": "code",
   "execution_count": 7,
   "id": "141e4a30",
   "metadata": {},
   "outputs": [
    {
     "name": "stdout",
     "output_type": "stream",
     "text": [
      "enter the first no : 20\n",
      "enter the second no : 5\n",
      "5\n"
     ]
    }
   ],
   "source": [
    "#HCF highest common factor\n",
    "num1 = int(input(\"enter the first no : \"))\n",
    "num2 =int(input(\"enter the second no : \"))\n",
    "\n",
    "def hcf(a, b):\n",
    "    if a > b:\n",
    "        c = b\n",
    "    else:\n",
    "        c = a\n",
    "    for i in range(1, c+1):\n",
    "        if((a % i == 0) and (b % 1 == 0)):\n",
    "            hcf = i\n",
    "    return hcf\n",
    "print(hcf(num1, num2))"
   ]
  },
  {
   "cell_type": "markdown",
   "id": "fa897734",
   "metadata": {},
   "source": [
    "# 3.\tWrite a Python Program to Convert Decimal to Binary, Octal and Hexadecimal?"
   ]
  },
  {
   "cell_type": "code",
   "execution_count": 11,
   "id": "4105b48b",
   "metadata": {},
   "outputs": [
    {
     "name": "stdout",
     "output_type": "stream",
     "text": [
      "Enter a Number: 89\n",
      "Binary Number : 0b1011001\n",
      "Octal Number : 0o131\n",
      "Hexadecimal Number : 0x59\n"
     ]
    }
   ],
   "source": [
    "dec_num = int(input('Enter a Number: '))\n",
    "\n",
    "def decimal_con(ndec_um):\n",
    "    print(f'Binary Number : {bin(dec_num)}')\n",
    "    print(f'Octal Number : {oct(dec_num)}')    \n",
    "    print(f'Hexadecimal Number : {hex(dec_num)}')    \n",
    "decimal_con(dec_num)"
   ]
  },
  {
   "cell_type": "markdown",
   "id": "b0fb6347",
   "metadata": {},
   "source": [
    "# 4.\tWrite a Python Program To Find ASCII value of a character?"
   ]
  },
  {
   "cell_type": "code",
   "execution_count": 13,
   "id": "fac3ca19",
   "metadata": {},
   "outputs": [
    {
     "name": "stdout",
     "output_type": "stream",
     "text": [
      "Enter a Character: A\n",
      "ASCII Character of A is: 65\n"
     ]
    }
   ],
   "source": [
    "char = input('Enter a Character: ')\n",
    "def ascii_con(char):\n",
    "    if len(char) > 1:\n",
    "        print('Please Enter a Single Character')\n",
    "    else:\n",
    "        n = ord(char)\n",
    "    return n\n",
    "  \n",
    "n = ascii_con(char)\n",
    "print(f'ASCII Character of {char} is: {n}')"
   ]
  },
  {
   "cell_type": "markdown",
   "id": "b357e2cb",
   "metadata": {},
   "source": [
    "# 5.\tWrite a Python Program to Make a Simple Calculator with 4 basic mathematical operations?"
   ]
  },
  {
   "cell_type": "code",
   "execution_count": null,
   "id": "33d44fb7",
   "metadata": {},
   "outputs": [
    {
     "name": "stdout",
     "output_type": "stream",
     "text": [
      "Select a Arithmetic Operation:         \n",
      "1.Addition(+)        \n",
      "2.Subtraction(-)        \n",
      "2.Multiplication(*)        \n",
      "4.Division(/)        \n",
      "3.Stop(0)\n",
      "\n",
      "\n",
      "Enter an arithmetic operation : +\n",
      "\n",
      "Enter the 1st number: 3\n",
      "Enter the 2nd number: 5\n",
      "3+5 = 8\n",
      "\n",
      "Enter an arithmetic operation : *\n",
      "\n",
      "Enter the 1st number: 5\n",
      "Enter the 2nd number: 3\n",
      "5*3 = 15\n",
      "\n",
      "Enter an arithmetic operation : /\n",
      "\n",
      "Enter the 1st number: 8\n",
      "Enter the 2nd number: 4\n",
      "8/4 = 2.0\n",
      "\n",
      "Enter an arithmetic operation : -\n",
      "\n",
      "Enter the 1st number: 8\n",
      "Enter the 2nd number: 5\n",
      "8-5 = 3\n"
     ]
    }
   ],
   "source": [
    "import operator\n",
    "ops = {\"+\": operator.add, \"-\": operator.sub, \"*\":operator.mul, \"/\":operator.truediv} \n",
    "print('Select a Arithmetic Operation: \\\n",
    "        \\n1.Addition(+)\\\n",
    "        \\n2.Subtraction(-)\\\n",
    "        \\n2.Multiplication(*)\\\n",
    "        \\n4.Division(/)\\\n",
    "        \\n3.Stop(0)\\n')\n",
    "while True:\n",
    "    operator = input('\\nEnter an arithmetic operation : ')\n",
    "    if operator == '0':\n",
    "        print(\"\\nProgram Stopped successfully.\")\n",
    "        break\n",
    "    elif operator not in ['+','-','*','/']:\n",
    "        print(\"Please enter a valid operator.\")\n",
    "    else:\n",
    "        num_1 = int(input('\\nEnter the 1st number: '))\n",
    "        num_2 = int(input('Enter the 2nd number: '))\n",
    "        print(f\"{num_1}{operator}{num_2} = {ops[operator](num_1, num_2)}\")\n"
   ]
  },
  {
   "cell_type": "code",
   "execution_count": null,
   "id": "24c8a357",
   "metadata": {},
   "outputs": [],
   "source": []
  },
  {
   "cell_type": "code",
   "execution_count": null,
   "id": "52b6ef8a",
   "metadata": {},
   "outputs": [],
   "source": []
  }
 ],
 "metadata": {
  "kernelspec": {
   "display_name": "Python 3 (ipykernel)",
   "language": "python",
   "name": "python3"
  },
  "language_info": {
   "codemirror_mode": {
    "name": "ipython",
    "version": 3
   },
   "file_extension": ".py",
   "mimetype": "text/x-python",
   "name": "python",
   "nbconvert_exporter": "python",
   "pygments_lexer": "ipython3",
   "version": "3.9.12"
  }
 },
 "nbformat": 4,
 "nbformat_minor": 5
}
